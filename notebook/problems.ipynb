{
    "cells": [
        {
            "cell_type": "markdown",
            "id": "ac622319",
            "metadata": {},
            "source": [
                "# Descriptive Statistics Problems"
            ]
        },
        {
            "cell_type": "markdown",
            "id": "aa8993e4",
            "metadata": {},
            "source": [
                "### Exercise 1"
            ]
        },
        {
            "cell_type": "markdown",
            "id": "5e0ab0d5",
            "metadata": {},
            "source": [
                "As right now, you are familliar with numpy, we are going to use numpy to get some data statistics.\n",
                "\n",
                "First, lets create an array of 20 elements distributed normally (Gaussian):\n",
                "\n",
                "Use the np.random.normal function to create some data, using 0,1,20 as parameters because we want a one dimentional array of 20 numbers distributed normally (Gaussian)"
            ]
        },
        {
            "cell_type": "code",
            "execution_count": 8,
            "id": "34720ab6",
            "metadata": {},
            "outputs": [
                {
                    "name": "stdout",
                    "output_type": "stream",
                    "text": [
                        "[ 0.08319806 -2.18757008 -1.75228084 -0.91174742 -0.97989906 -1.18455845\n",
                        " -0.99288024 -0.4531355  -0.20319467 -1.85666633 -0.0085834  -0.43046373\n",
                        "  1.31577434 -1.21302197  0.39383242 -0.88870179  0.31046757 -0.06058612\n",
                        "  1.93622844  0.19259132]\n"
                    ]
                }
            ],
            "source": [
                "#import libraries\n",
                "import numpy as np\n",
                "import pandas as pd\n",
                "import matplotlib.pyplot as plt\n",
                "\n",
                "# Set seed in order to get similar results\n",
                "seed = 1941\n",
                "np.random.seed(seed)\n",
                "\n",
                "# create the data\n",
                "array_a = np.random.normal(0,1,20)\n",
                "\n",
                "#print results\n",
                "print(array_a)"
            ]
        },
        {
            "cell_type": "code",
            "execution_count": 9,
            "id": "49c55822",
            "metadata": {},
            "outputs": [
                {
                    "name": "stdout",
                    "output_type": "stream",
                    "text": [
                        "The mean of the data is: -0.44455987102911826\n"
                    ]
                }
            ],
            "source": [
                "#Use numpy to get the mean of your data\n",
                "print(f'The mean of the data is: {np.mean(array_a)}')"
            ]
        },
        {
            "cell_type": "code",
            "execution_count": 10,
            "id": "03529459",
            "metadata": {},
            "outputs": [
                {
                    "name": "stdout",
                    "output_type": "stream",
                    "text": [
                        "The variance of the data is: 1.0001796607113664\n"
                    ]
                }
            ],
            "source": [
                "#get the variance of your data\n",
                "print(f'The variance of the data is: {np.var(array_a)}')"
            ]
        },
        {
            "cell_type": "code",
            "execution_count": 11,
            "id": "e53f30c5",
            "metadata": {},
            "outputs": [
                {
                    "name": "stdout",
                    "output_type": "stream",
                    "text": [
                        "The Standard Deviation of the Data is: 1.0000898263212992\n"
                    ]
                }
            ],
            "source": [
                "# Standard deviation\n",
                "print(f'The Standard Deviation of the Data is: {np.std(array_a)}')"
            ]
        },
        {
            "cell_type": "code",
            "execution_count": 14,
            "id": "9bce852f",
            "metadata": {},
            "outputs": [
                {
                    "data": {
                        "text/plain": [
                            "ModeResult(mode=-2.187570078099975, count=1)"
                        ]
                    },
                    "execution_count": 14,
                    "metadata": {},
                    "output_type": "execute_result"
                }
            ],
            "source": [
                "#import libraries and print the mode\n",
                "from scipy import stats\n",
                "\n",
                "# Mode for continuous array\n",
                "stats.mode(array_a)"
            ]
        },
        {
            "cell_type": "code",
            "execution_count": 15,
            "id": "c682cb6e",
            "metadata": {},
            "outputs": [
                {
                    "name": "stdout",
                    "output_type": "stream",
                    "text": [
                        "The median of the Data is -0.4417996152281822\n"
                    ]
                }
            ],
            "source": [
                "# Median\n",
                "print(f'The median of the Data is {np.median(array_a)}')"
            ]
        },
        {
            "cell_type": "code",
            "execution_count": 21,
            "id": "39c3fabd",
            "metadata": {},
            "outputs": [
                {
                    "name": "stdout",
                    "output_type": "stream",
                    "text": [
                        "The Quantiles of the Data are: -0.4417996152281822\n"
                    ]
                }
            ],
            "source": [
                "# Print the Quantiles\n",
                "print(f'The Quantiles of the Data are: {np.quantile(array_a,0.5)}')\n",
                "\n",
                "# This match with np.median, why?\n",
                "# The Quantile for 0.5 or 50% corresponds to the Median of the Data/Array"
            ]
        },
        {
            "cell_type": "markdown",
            "id": "46c70c3d",
            "metadata": {},
            "source": [
                "### Exercise 2\n",
                "\n",
                "Write a Python program to calculate the standard deviation of the following data:\n",
                "```py\n",
                "data = [4, 2, 5, 8, 6]\n",
                "```"
            ]
        },
        {
            "cell_type": "code",
            "execution_count": 24,
            "id": "d590308e",
            "metadata": {},
            "outputs": [
                {
                    "name": "stdout",
                    "output_type": "stream",
                    "text": [
                        "The Standard Deviation for the data is: 2.23606797749979\n"
                    ]
                }
            ],
            "source": [
                "import math\n",
                "import sys\n",
                "\n",
                "# Define the standard deviation function\n",
                "\n",
                "def sd_calc(data):\n",
                "    #code here\n",
                "    \n",
                "    # Get the number of entries\n",
                "    n = len(data)\n",
                "\n",
                "    # Get the mean\n",
                "    mean = avg_calc(data)\n",
                "\n",
                "    sum = 0\n",
                "\n",
                "    # calculate stan. dev.\n",
                "\n",
                "    # Calc SUM of entries\n",
                "    for i in data:\n",
                "        \n",
                "        sum += (i - mean)**2\n",
                "\n",
                "    # Divide by n and apply square root\n",
                "    std = sum/(n-1)\n",
                "    std = np.sqrt(std)\n",
                "\n",
                "    return std\n",
                "\n",
                "\n",
                "# Define the average function\n",
                "\n",
                "def avg_calc(ls):\n",
                "    #code here\n",
                "    \n",
                "    mean = 0\n",
                "    # calculate average\n",
                "    for i in ls:\n",
                "        mean += i\n",
                "    mean = mean/len(ls)\n",
                "\n",
                "    return mean\n",
                "    \n",
                "data = [4, 2, 5, 8, 6]\n",
                "\n",
                "#print the data\n",
                "\n",
                "#print the standard deviation of the data\n",
                "print(f'The Standard Deviation for the data is: {sd_calc(data)}')"
            ]
        },
        {
            "cell_type": "markdown",
            "id": "04b71791",
            "metadata": {},
            "source": [
                "Source:\n",
                "\n",
                "https://www.w3resource.com/"
            ]
        }
    ],
    "metadata": {
        "interpreter": {
            "hash": "9248718ffe6ce6938b217e69dbcc175ea21f4c6b28a317e96c05334edae734bb"
        },
        "kernelspec": {
            "display_name": "Python 3.9.12 ('ML-BOOTCAMP')",
            "language": "python",
            "name": "python3"
        },
        "language_info": {
            "codemirror_mode": {
                "name": "ipython",
                "version": 3
            },
            "file_extension": ".py",
            "mimetype": "text/x-python",
            "name": "python",
            "nbconvert_exporter": "python",
            "pygments_lexer": "ipython3",
            "version": "3.11.4"
        }
    },
    "nbformat": 4,
    "nbformat_minor": 5
}
